{
  "nbformat": 4,
  "nbformat_minor": 0,
  "metadata": {
    "colab": {
      "name": "pca_selfmade.ipynb",
      "provenance": [],
      "collapsed_sections": [],
      "authorship_tag": "ABX9TyOXEEBI7aVrRT6PQlKjiuW4",
      "include_colab_link": true
    },
    "kernelspec": {
      "name": "python3",
      "display_name": "Python 3"
    }
  },
  "cells": [
    {
      "cell_type": "markdown",
      "metadata": {
        "id": "view-in-github",
        "colab_type": "text"
      },
      "source": [
        "<a href=\"https://colab.research.google.com/github/joe94113/Machine-Learning/blob/main/pca_selfmade.ipynb\" target=\"_parent\"><img src=\"https://colab.research.google.com/assets/colab-badge.svg\" alt=\"Open In Colab\"/></a>"
      ]
    },
    {
      "cell_type": "code",
      "metadata": {
        "colab": {
          "base_uri": "https://localhost:8080/"
        },
        "id": "ZTUSqcKs8wRt",
        "outputId": "ce4a0d12-c263-451a-e6b4-67db39d87a6d"
      },
      "source": [
        "import numpy as np\n",
        "X = np.array([\n",
        "          [-1, -1, 3],\n",
        "          [-2, -1, 4],\n",
        "          [-3, -2, 5],\n",
        "          [1, 1, 7]\n",
        "])\n",
        "X"
      ],
      "execution_count": null,
      "outputs": [
        {
          "output_type": "execute_result",
          "data": {
            "text/plain": [
              "array([[-1, -1,  3],\n",
              "       [-2, -1,  4],\n",
              "       [-3, -2,  5],\n",
              "       [ 1,  1,  7]])"
            ]
          },
          "metadata": {
            "tags": []
          },
          "execution_count": 1
        }
      ]
    },
    {
      "cell_type": "code",
      "metadata": {
        "colab": {
          "base_uri": "https://localhost:8080/"
        },
        "id": "B0JpMLT_LvZM",
        "outputId": "07541328-d682-4f4f-e86b-ec52c7fa67e7"
      },
      "source": [
        "from sklearn.decomposition import PCA\n",
        "pca = PCA(n_components=2)\n",
        "X_pca = pca.fit_transform(X)\n",
        "X_pca"
      ],
      "execution_count": null,
      "outputs": [
        {
          "output_type": "execute_result",
          "data": {
            "text/plain": [
              "array([[-0.9700604 ,  1.49158925],\n",
              "       [-1.0424408 ,  0.14598684],\n",
              "       [-1.61347542, -1.43849526],\n",
              "       [ 3.62597662, -0.19908083]])"
            ]
          },
          "metadata": {
            "tags": []
          },
          "execution_count": 2
        }
      ]
    },
    {
      "cell_type": "code",
      "metadata": {
        "colab": {
          "base_uri": "https://localhost:8080/"
        },
        "id": "UCj7Sn98p9AV",
        "outputId": "943d6fc2-1bd9-48d7-deb0-22f145dd5024"
      },
      "source": [
        "# 新的正交座標軸\n",
        "pca.components_"
      ],
      "execution_count": null,
      "outputs": [
        {
          "output_type": "execute_result",
          "data": {
            "text/plain": [
              "array([[ 0.64804169,  0.49865423,  0.57566129],\n",
              "       [ 0.53566336,  0.23887969, -0.80993905]])"
            ]
          },
          "metadata": {
            "tags": []
          },
          "execution_count": 3
        }
      ]
    },
    {
      "cell_type": "code",
      "metadata": {
        "colab": {
          "base_uri": "https://localhost:8080/"
        },
        "id": "WeY15Js0qxWz",
        "outputId": "7edf1c81-beda-4aa9-acf9-4cdd3f418057"
      },
      "source": [
        "newX = X-X.mean(axis=0) #　０是行1是橫\n",
        "COV = np.cov(newX.T) # 協方差，T = 反轉\n",
        "COV"
      ],
      "execution_count": null,
      "outputs": [
        {
          "output_type": "execute_result",
          "data": {
            "text/plain": [
              "array([[2.91666667, 2.08333333, 1.58333333],\n",
              "       [2.08333333, 1.58333333, 1.41666667],\n",
              "       [1.58333333, 1.41666667, 2.91666667]])"
            ]
          },
          "metadata": {
            "tags": []
          },
          "execution_count": 4
        }
      ]
    },
    {
      "cell_type": "code",
      "metadata": {
        "id": "GttQ3dRnuRc8"
      },
      "source": [
        "from numpy import linalg as LA\n",
        "W, V = LA.eig(COV) # 計算矩陣的特徵值個特徵向量\n",
        "Q_T, A, Q = V, np.diag(W), V.T"
      ],
      "execution_count": null,
      "outputs": []
    },
    {
      "cell_type": "code",
      "metadata": {
        "colab": {
          "base_uri": "https://localhost:8080/"
        },
        "id": "KUtwnEpnHI4w",
        "outputId": "033e482a-eb40-4568-f568-2e6b0525e1f8"
      },
      "source": [
        "Q_T.dot(A).dot(Q) # 點積"
      ],
      "execution_count": null,
      "outputs": [
        {
          "output_type": "execute_result",
          "data": {
            "text/plain": [
              "array([[2.91666667, 2.08333333, 1.58333333],\n",
              "       [2.08333333, 1.58333333, 1.41666667],\n",
              "       [1.58333333, 1.41666667, 2.91666667]])"
            ]
          },
          "metadata": {
            "tags": []
          },
          "execution_count": 6
        }
      ]
    },
    {
      "cell_type": "code",
      "metadata": {
        "colab": {
          "base_uri": "https://localhost:8080/"
        },
        "id": "5PAZCUkHH3_I",
        "outputId": "5110b757-3d91-4946-c1c3-3b11ce788659"
      },
      "source": [
        "wq_pair = sorted(zip(W, Q), key=lambda x:x[0], reverse=True)\n",
        "Q_fil = np.array([v for w,v in wq_pair[:2]])\n",
        "Q_fil"
      ],
      "execution_count": null,
      "outputs": [
        {
          "output_type": "execute_result",
          "data": {
            "text/plain": [
              "array([[-0.64804169, -0.49865423, -0.57566129],\n",
              "       [-0.53566336, -0.23887969,  0.80993905]])"
            ]
          },
          "metadata": {
            "tags": []
          },
          "execution_count": 8
        }
      ]
    },
    {
      "cell_type": "code",
      "metadata": {
        "colab": {
          "base_uri": "https://localhost:8080/"
        },
        "id": "N7DDadlbMDx4",
        "outputId": "ed2d5888-eb47-437d-dfae-8f9fe9babde5"
      },
      "source": [
        "Q_fil.dot(newX.T).T"
      ],
      "execution_count": null,
      "outputs": [
        {
          "output_type": "execute_result",
          "data": {
            "text/plain": [
              "array([[ 0.9700604 , -1.49158925],\n",
              "       [ 1.0424408 , -0.14598684],\n",
              "       [ 1.61347542,  1.43849526],\n",
              "       [-3.62597662,  0.19908083]])"
            ]
          },
          "metadata": {
            "tags": []
          },
          "execution_count": 10
        }
      ]
    },
    {
      "cell_type": "code",
      "metadata": {
        "colab": {
          "base_uri": "https://localhost:8080/"
        },
        "id": "eThAA7m0MS_f",
        "outputId": "a59d854c-7cb7-41f5-963d-2abee317e755"
      },
      "source": [
        "X_pca"
      ],
      "execution_count": null,
      "outputs": [
        {
          "output_type": "execute_result",
          "data": {
            "text/plain": [
              "array([[-0.9700604 ,  1.49158925],\n",
              "       [-1.0424408 ,  0.14598684],\n",
              "       [-1.61347542, -1.43849526],\n",
              "       [ 3.62597662, -0.19908083]])"
            ]
          },
          "metadata": {
            "tags": []
          },
          "execution_count": 11
        }
      ]
    }
  ]
}