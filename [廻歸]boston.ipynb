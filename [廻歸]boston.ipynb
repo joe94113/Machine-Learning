{
  "nbformat": 4,
  "nbformat_minor": 0,
  "metadata": {
    "colab": {
      "name": "[廻歸]boston.ipynb",
      "provenance": [],
      "collapsed_sections": [],
      "authorship_tag": "ABX9TyNnfBIyaLCb1BDOdysYrzwV",
      "include_colab_link": true
    },
    "kernelspec": {
      "name": "python3",
      "display_name": "Python 3"
    }
  },
  "cells": [
    {
      "cell_type": "markdown",
      "metadata": {
        "id": "view-in-github",
        "colab_type": "text"
      },
      "source": [
        "<a href=\"https://colab.research.google.com/github/joe94113/Machine-Learning/blob/main/%5B%E5%BB%BB%E6%AD%B8%5Dboston.ipynb\" target=\"_parent\"><img src=\"https://colab.research.google.com/assets/colab-badge.svg\" alt=\"Open In Colab\"/></a>"
      ]
    },
    {
      "cell_type": "code",
      "metadata": {
        "colab": {
          "base_uri": "https://localhost:8080/",
          "height": 415
        },
        "id": "cRB2m0_slUtp",
        "outputId": "b5c2f8d6-e26b-41b7-c5d6-2b3d926487de"
      },
      "source": [
        "import pandas as pd\n",
        "from sklearn.datasets import load_boston\n",
        "boston = load_boston()\n",
        "df = pd.DataFrame(boston[\"data\"], columns= boston[\"feature_names\"])\n",
        "df[\"ans\"] = boston['target']\n",
        "df"
      ],
      "execution_count": null,
      "outputs": [
        {
          "output_type": "execute_result",
          "data": {
            "text/html": [
              "<div>\n",
              "<style scoped>\n",
              "    .dataframe tbody tr th:only-of-type {\n",
              "        vertical-align: middle;\n",
              "    }\n",
              "\n",
              "    .dataframe tbody tr th {\n",
              "        vertical-align: top;\n",
              "    }\n",
              "\n",
              "    .dataframe thead th {\n",
              "        text-align: right;\n",
              "    }\n",
              "</style>\n",
              "<table border=\"1\" class=\"dataframe\">\n",
              "  <thead>\n",
              "    <tr style=\"text-align: right;\">\n",
              "      <th></th>\n",
              "      <th>CRIM</th>\n",
              "      <th>ZN</th>\n",
              "      <th>INDUS</th>\n",
              "      <th>CHAS</th>\n",
              "      <th>NOX</th>\n",
              "      <th>RM</th>\n",
              "      <th>AGE</th>\n",
              "      <th>DIS</th>\n",
              "      <th>RAD</th>\n",
              "      <th>TAX</th>\n",
              "      <th>PTRATIO</th>\n",
              "      <th>B</th>\n",
              "      <th>LSTAT</th>\n",
              "      <th>ans</th>\n",
              "    </tr>\n",
              "  </thead>\n",
              "  <tbody>\n",
              "    <tr>\n",
              "      <th>0</th>\n",
              "      <td>0.00632</td>\n",
              "      <td>18.0</td>\n",
              "      <td>2.31</td>\n",
              "      <td>0.0</td>\n",
              "      <td>0.538</td>\n",
              "      <td>6.575</td>\n",
              "      <td>65.2</td>\n",
              "      <td>4.0900</td>\n",
              "      <td>1.0</td>\n",
              "      <td>296.0</td>\n",
              "      <td>15.3</td>\n",
              "      <td>396.90</td>\n",
              "      <td>4.98</td>\n",
              "      <td>24.0</td>\n",
              "    </tr>\n",
              "    <tr>\n",
              "      <th>1</th>\n",
              "      <td>0.02731</td>\n",
              "      <td>0.0</td>\n",
              "      <td>7.07</td>\n",
              "      <td>0.0</td>\n",
              "      <td>0.469</td>\n",
              "      <td>6.421</td>\n",
              "      <td>78.9</td>\n",
              "      <td>4.9671</td>\n",
              "      <td>2.0</td>\n",
              "      <td>242.0</td>\n",
              "      <td>17.8</td>\n",
              "      <td>396.90</td>\n",
              "      <td>9.14</td>\n",
              "      <td>21.6</td>\n",
              "    </tr>\n",
              "    <tr>\n",
              "      <th>2</th>\n",
              "      <td>0.02729</td>\n",
              "      <td>0.0</td>\n",
              "      <td>7.07</td>\n",
              "      <td>0.0</td>\n",
              "      <td>0.469</td>\n",
              "      <td>7.185</td>\n",
              "      <td>61.1</td>\n",
              "      <td>4.9671</td>\n",
              "      <td>2.0</td>\n",
              "      <td>242.0</td>\n",
              "      <td>17.8</td>\n",
              "      <td>392.83</td>\n",
              "      <td>4.03</td>\n",
              "      <td>34.7</td>\n",
              "    </tr>\n",
              "    <tr>\n",
              "      <th>3</th>\n",
              "      <td>0.03237</td>\n",
              "      <td>0.0</td>\n",
              "      <td>2.18</td>\n",
              "      <td>0.0</td>\n",
              "      <td>0.458</td>\n",
              "      <td>6.998</td>\n",
              "      <td>45.8</td>\n",
              "      <td>6.0622</td>\n",
              "      <td>3.0</td>\n",
              "      <td>222.0</td>\n",
              "      <td>18.7</td>\n",
              "      <td>394.63</td>\n",
              "      <td>2.94</td>\n",
              "      <td>33.4</td>\n",
              "    </tr>\n",
              "    <tr>\n",
              "      <th>4</th>\n",
              "      <td>0.06905</td>\n",
              "      <td>0.0</td>\n",
              "      <td>2.18</td>\n",
              "      <td>0.0</td>\n",
              "      <td>0.458</td>\n",
              "      <td>7.147</td>\n",
              "      <td>54.2</td>\n",
              "      <td>6.0622</td>\n",
              "      <td>3.0</td>\n",
              "      <td>222.0</td>\n",
              "      <td>18.7</td>\n",
              "      <td>396.90</td>\n",
              "      <td>5.33</td>\n",
              "      <td>36.2</td>\n",
              "    </tr>\n",
              "    <tr>\n",
              "      <th>...</th>\n",
              "      <td>...</td>\n",
              "      <td>...</td>\n",
              "      <td>...</td>\n",
              "      <td>...</td>\n",
              "      <td>...</td>\n",
              "      <td>...</td>\n",
              "      <td>...</td>\n",
              "      <td>...</td>\n",
              "      <td>...</td>\n",
              "      <td>...</td>\n",
              "      <td>...</td>\n",
              "      <td>...</td>\n",
              "      <td>...</td>\n",
              "      <td>...</td>\n",
              "    </tr>\n",
              "    <tr>\n",
              "      <th>501</th>\n",
              "      <td>0.06263</td>\n",
              "      <td>0.0</td>\n",
              "      <td>11.93</td>\n",
              "      <td>0.0</td>\n",
              "      <td>0.573</td>\n",
              "      <td>6.593</td>\n",
              "      <td>69.1</td>\n",
              "      <td>2.4786</td>\n",
              "      <td>1.0</td>\n",
              "      <td>273.0</td>\n",
              "      <td>21.0</td>\n",
              "      <td>391.99</td>\n",
              "      <td>9.67</td>\n",
              "      <td>22.4</td>\n",
              "    </tr>\n",
              "    <tr>\n",
              "      <th>502</th>\n",
              "      <td>0.04527</td>\n",
              "      <td>0.0</td>\n",
              "      <td>11.93</td>\n",
              "      <td>0.0</td>\n",
              "      <td>0.573</td>\n",
              "      <td>6.120</td>\n",
              "      <td>76.7</td>\n",
              "      <td>2.2875</td>\n",
              "      <td>1.0</td>\n",
              "      <td>273.0</td>\n",
              "      <td>21.0</td>\n",
              "      <td>396.90</td>\n",
              "      <td>9.08</td>\n",
              "      <td>20.6</td>\n",
              "    </tr>\n",
              "    <tr>\n",
              "      <th>503</th>\n",
              "      <td>0.06076</td>\n",
              "      <td>0.0</td>\n",
              "      <td>11.93</td>\n",
              "      <td>0.0</td>\n",
              "      <td>0.573</td>\n",
              "      <td>6.976</td>\n",
              "      <td>91.0</td>\n",
              "      <td>2.1675</td>\n",
              "      <td>1.0</td>\n",
              "      <td>273.0</td>\n",
              "      <td>21.0</td>\n",
              "      <td>396.90</td>\n",
              "      <td>5.64</td>\n",
              "      <td>23.9</td>\n",
              "    </tr>\n",
              "    <tr>\n",
              "      <th>504</th>\n",
              "      <td>0.10959</td>\n",
              "      <td>0.0</td>\n",
              "      <td>11.93</td>\n",
              "      <td>0.0</td>\n",
              "      <td>0.573</td>\n",
              "      <td>6.794</td>\n",
              "      <td>89.3</td>\n",
              "      <td>2.3889</td>\n",
              "      <td>1.0</td>\n",
              "      <td>273.0</td>\n",
              "      <td>21.0</td>\n",
              "      <td>393.45</td>\n",
              "      <td>6.48</td>\n",
              "      <td>22.0</td>\n",
              "    </tr>\n",
              "    <tr>\n",
              "      <th>505</th>\n",
              "      <td>0.04741</td>\n",
              "      <td>0.0</td>\n",
              "      <td>11.93</td>\n",
              "      <td>0.0</td>\n",
              "      <td>0.573</td>\n",
              "      <td>6.030</td>\n",
              "      <td>80.8</td>\n",
              "      <td>2.5050</td>\n",
              "      <td>1.0</td>\n",
              "      <td>273.0</td>\n",
              "      <td>21.0</td>\n",
              "      <td>396.90</td>\n",
              "      <td>7.88</td>\n",
              "      <td>11.9</td>\n",
              "    </tr>\n",
              "  </tbody>\n",
              "</table>\n",
              "<p>506 rows × 14 columns</p>\n",
              "</div>"
            ],
            "text/plain": [
              "        CRIM    ZN  INDUS  CHAS    NOX  ...    TAX  PTRATIO       B  LSTAT   ans\n",
              "0    0.00632  18.0   2.31   0.0  0.538  ...  296.0     15.3  396.90   4.98  24.0\n",
              "1    0.02731   0.0   7.07   0.0  0.469  ...  242.0     17.8  396.90   9.14  21.6\n",
              "2    0.02729   0.0   7.07   0.0  0.469  ...  242.0     17.8  392.83   4.03  34.7\n",
              "3    0.03237   0.0   2.18   0.0  0.458  ...  222.0     18.7  394.63   2.94  33.4\n",
              "4    0.06905   0.0   2.18   0.0  0.458  ...  222.0     18.7  396.90   5.33  36.2\n",
              "..       ...   ...    ...   ...    ...  ...    ...      ...     ...    ...   ...\n",
              "501  0.06263   0.0  11.93   0.0  0.573  ...  273.0     21.0  391.99   9.67  22.4\n",
              "502  0.04527   0.0  11.93   0.0  0.573  ...  273.0     21.0  396.90   9.08  20.6\n",
              "503  0.06076   0.0  11.93   0.0  0.573  ...  273.0     21.0  396.90   5.64  23.9\n",
              "504  0.10959   0.0  11.93   0.0  0.573  ...  273.0     21.0  393.45   6.48  22.0\n",
              "505  0.04741   0.0  11.93   0.0  0.573  ...  273.0     21.0  396.90   7.88  11.9\n",
              "\n",
              "[506 rows x 14 columns]"
            ]
          },
          "metadata": {
            "tags": []
          },
          "execution_count": 7
        }
      ]
    },
    {
      "cell_type": "code",
      "metadata": {
        "id": "pomWyx6QjrYc"
      },
      "source": [
        "# 將資料要分成兩份，一份學習一份測試\n",
        "from sklearn.model_selection import train_test_split\n",
        "# [90%題目, 10%題目, 90%答案, 10%答案]\n",
        "x_train, x_test, y_train, y_test = train_test_split(boston[\"data\"], boston['target'], test_size=0.1)"
      ],
      "execution_count": null,
      "outputs": []
    },
    {
      "cell_type": "code",
      "metadata": {
        "colab": {
          "base_uri": "https://localhost:8080/"
        },
        "id": "yPkAH2L6mfW3",
        "outputId": "7974b4e0-e570-4ae7-ee03-7ea82b5bca38"
      },
      "source": [
        "# 丟進演算法\n",
        "from sklearn.tree import DecisionTreeRegressor # 迴歸決策數\n",
        "reg = DecisionTreeRegressor(max_depth=6) # column越多深度要比較深\n",
        "reg.fit(x_train, y_train)"
      ],
      "execution_count": null,
      "outputs": [
        {
          "output_type": "execute_result",
          "data": {
            "text/plain": [
              "DecisionTreeRegressor(ccp_alpha=0.0, criterion='mse', max_depth=6,\n",
              "                      max_features=None, max_leaf_nodes=None,\n",
              "                      min_impurity_decrease=0.0, min_impurity_split=None,\n",
              "                      min_samples_leaf=1, min_samples_split=2,\n",
              "                      min_weight_fraction_leaf=0.0, presort='deprecated',\n",
              "                      random_state=None, splitter='best')"
            ]
          },
          "metadata": {
            "tags": []
          },
          "execution_count": 9
        }
      ]
    },
    {
      "cell_type": "code",
      "metadata": {
        "colab": {
          "base_uri": "https://localhost:8080/",
          "height": 635
        },
        "id": "x-8wNNw8uTU5",
        "outputId": "aa19de17-5ba6-4a43-8150-b987e9f11614"
      },
      "source": [
        "import graphviz\n",
        "from sklearn.tree import export_graphviz\n",
        "g = export_graphviz(reg, feature_names = boston['feature_names'], \n",
        "              filled = True,\n",
        "              max_depth=3) # filled上色，max_depth設定畫圖深度\n",
        "graphviz.Source(g)\n"
      ],
      "execution_count": null,
      "outputs": [
        {
          "output_type": "execute_result",
          "data": {
            "text/plain": [
              "<graphviz.files.Source at 0x7f32d087e438>"
            ],
            "image/svg+xml": "<?xml version=\"1.0\" encoding=\"UTF-8\" standalone=\"no\"?>\n<!DOCTYPE svg PUBLIC \"-//W3C//DTD SVG 1.1//EN\"\n \"http://www.w3.org/Graphics/SVG/1.1/DTD/svg11.dtd\">\n<!-- Generated by graphviz version 2.40.1 (20161225.0304)\n -->\n<!-- Title: Tree Pages: 1 -->\n<svg width=\"1059pt\" height=\"460pt\"\n viewBox=\"0.00 0.00 1058.50 460.00\" xmlns=\"http://www.w3.org/2000/svg\" xmlns:xlink=\"http://www.w3.org/1999/xlink\">\n<g id=\"graph0\" class=\"graph\" transform=\"scale(1 1) rotate(0) translate(4 456)\">\n<title>Tree</title>\n<polygon fill=\"#ffffff\" stroke=\"transparent\" points=\"-4,4 -4,-456 1054.5,-456 1054.5,4 -4,4\"/>\n<!-- 0 -->\n<g id=\"node1\" class=\"node\">\n<title>0</title>\n<polygon fill=\"#f6d4bc\" stroke=\"#000000\" points=\"515.5,-452 397.5,-452 397.5,-384 515.5,-384 515.5,-452\"/>\n<text text-anchor=\"middle\" x=\"456.5\" y=\"-436.8\" font-family=\"Times,serif\" font-size=\"14.00\" fill=\"#000000\">LSTAT &lt;= 9.725</text>\n<text text-anchor=\"middle\" x=\"456.5\" y=\"-421.8\" font-family=\"Times,serif\" font-size=\"14.00\" fill=\"#000000\">mse = 82.933</text>\n<text text-anchor=\"middle\" x=\"456.5\" y=\"-406.8\" font-family=\"Times,serif\" font-size=\"14.00\" fill=\"#000000\">samples = 455</text>\n<text text-anchor=\"middle\" x=\"456.5\" y=\"-391.8\" font-family=\"Times,serif\" font-size=\"14.00\" fill=\"#000000\">value = 22.587</text>\n</g>\n<!-- 1 -->\n<g id=\"node2\" class=\"node\">\n<title>1</title>\n<polygon fill=\"#f2bf9a\" stroke=\"#000000\" points=\"441.5,-348 337.5,-348 337.5,-280 441.5,-280 441.5,-348\"/>\n<text text-anchor=\"middle\" x=\"389.5\" y=\"-332.8\" font-family=\"Times,serif\" font-size=\"14.00\" fill=\"#000000\">RM &lt;= 7.437</text>\n<text text-anchor=\"middle\" x=\"389.5\" y=\"-317.8\" font-family=\"Times,serif\" font-size=\"14.00\" fill=\"#000000\">mse = 77.942</text>\n<text text-anchor=\"middle\" x=\"389.5\" y=\"-302.8\" font-family=\"Times,serif\" font-size=\"14.00\" fill=\"#000000\">samples = 193</text>\n<text text-anchor=\"middle\" x=\"389.5\" y=\"-287.8\" font-family=\"Times,serif\" font-size=\"14.00\" fill=\"#000000\">value = 29.645</text>\n</g>\n<!-- 0&#45;&gt;1 -->\n<g id=\"edge1\" class=\"edge\">\n<title>0&#45;&gt;1</title>\n<path fill=\"none\" stroke=\"#000000\" d=\"M434.5617,-383.9465C428.951,-375.2373 422.8471,-365.7626 416.9958,-356.6801\"/>\n<polygon fill=\"#000000\" stroke=\"#000000\" points=\"419.8457,-354.641 411.4876,-348.13 413.9611,-358.4321 419.8457,-354.641\"/>\n<text text-anchor=\"middle\" x=\"406.2006\" y=\"-368.8646\" font-family=\"Times,serif\" font-size=\"14.00\" fill=\"#000000\">True</text>\n</g>\n<!-- 34 -->\n<g id=\"node15\" class=\"node\">\n<title>34</title>\n<polygon fill=\"#f9e4d4\" stroke=\"#000000\" points=\"639,-348 514,-348 514,-280 639,-280 639,-348\"/>\n<text text-anchor=\"middle\" x=\"576.5\" y=\"-332.8\" font-family=\"Times,serif\" font-size=\"14.00\" fill=\"#000000\">LSTAT &lt;= 16.085</text>\n<text text-anchor=\"middle\" x=\"576.5\" y=\"-317.8\" font-family=\"Times,serif\" font-size=\"14.00\" fill=\"#000000\">mse = 22.886</text>\n<text text-anchor=\"middle\" x=\"576.5\" y=\"-302.8\" font-family=\"Times,serif\" font-size=\"14.00\" fill=\"#000000\">samples = 262</text>\n<text text-anchor=\"middle\" x=\"576.5\" y=\"-287.8\" font-family=\"Times,serif\" font-size=\"14.00\" fill=\"#000000\">value = 17.388</text>\n</g>\n<!-- 0&#45;&gt;34 -->\n<g id=\"edge14\" class=\"edge\">\n<title>0&#45;&gt;34</title>\n<path fill=\"none\" stroke=\"#000000\" d=\"M495.7925,-383.9465C506.5667,-374.6088 518.3564,-364.3911 529.515,-354.7203\"/>\n<polygon fill=\"#000000\" stroke=\"#000000\" points=\"531.8546,-357.3243 537.1192,-348.13 527.2701,-352.0344 531.8546,-357.3243\"/>\n<text text-anchor=\"middle\" x=\"535.3381\" y=\"-369.3665\" font-family=\"Times,serif\" font-size=\"14.00\" fill=\"#000000\">False</text>\n</g>\n<!-- 2 -->\n<g id=\"node3\" class=\"node\">\n<title>2</title>\n<polygon fill=\"#f3c6a5\" stroke=\"#000000\" points=\"211.5,-244 107.5,-244 107.5,-176 211.5,-176 211.5,-244\"/>\n<text text-anchor=\"middle\" x=\"159.5\" y=\"-228.8\" font-family=\"Times,serif\" font-size=\"14.00\" fill=\"#000000\">DIS &lt;= 1.557</text>\n<text text-anchor=\"middle\" x=\"159.5\" y=\"-213.8\" font-family=\"Times,serif\" font-size=\"14.00\" fill=\"#000000\">mse = 40.931</text>\n<text text-anchor=\"middle\" x=\"159.5\" y=\"-198.8\" font-family=\"Times,serif\" font-size=\"14.00\" fill=\"#000000\">samples = 167</text>\n<text text-anchor=\"middle\" x=\"159.5\" y=\"-183.8\" font-family=\"Times,serif\" font-size=\"14.00\" fill=\"#000000\">value = 27.244</text>\n</g>\n<!-- 1&#45;&gt;2 -->\n<g id=\"edge2\" class=\"edge\">\n<title>1&#45;&gt;2</title>\n<path fill=\"none\" stroke=\"#000000\" d=\"M337.3094,-290.4008C302.8779,-274.8318 257.6104,-254.363 221.3675,-237.9748\"/>\n<polygon fill=\"#000000\" stroke=\"#000000\" points=\"222.4355,-234.6166 211.8816,-233.6856 219.5514,-240.9949 222.4355,-234.6166\"/>\n</g>\n<!-- 19 -->\n<g id=\"node8\" class=\"node\">\n<title>19</title>\n<polygon fill=\"#e89051\" stroke=\"#000000\" points=\"453,-244 326,-244 326,-176 453,-176 453,-244\"/>\n<text text-anchor=\"middle\" x=\"389.5\" y=\"-228.8\" font-family=\"Times,serif\" font-size=\"14.00\" fill=\"#000000\">PTRATIO &lt;= 18.3</text>\n<text text-anchor=\"middle\" x=\"389.5\" y=\"-213.8\" font-family=\"Times,serif\" font-size=\"14.00\" fill=\"#000000\">mse = 40.978</text>\n<text text-anchor=\"middle\" x=\"389.5\" y=\"-198.8\" font-family=\"Times,serif\" font-size=\"14.00\" fill=\"#000000\">samples = 26</text>\n<text text-anchor=\"middle\" x=\"389.5\" y=\"-183.8\" font-family=\"Times,serif\" font-size=\"14.00\" fill=\"#000000\">value = 45.062</text>\n</g>\n<!-- 1&#45;&gt;19 -->\n<g id=\"edge7\" class=\"edge\">\n<title>1&#45;&gt;19</title>\n<path fill=\"none\" stroke=\"#000000\" d=\"M389.5,-279.9465C389.5,-271.776 389.5,-262.9318 389.5,-254.3697\"/>\n<polygon fill=\"#000000\" stroke=\"#000000\" points=\"393.0001,-254.13 389.5,-244.13 386.0001,-254.13 393.0001,-254.13\"/>\n</g>\n<!-- 3 -->\n<g id=\"node4\" class=\"node\">\n<title>3</title>\n<polygon fill=\"#e58139\" stroke=\"#000000\" points=\"89,-132.5 0,-132.5 0,-79.5 89,-79.5 89,-132.5\"/>\n<text text-anchor=\"middle\" x=\"44.5\" y=\"-117.3\" font-family=\"Times,serif\" font-size=\"14.00\" fill=\"#000000\">mse = 0.0</text>\n<text text-anchor=\"middle\" x=\"44.5\" y=\"-102.3\" font-family=\"Times,serif\" font-size=\"14.00\" fill=\"#000000\">samples = 5</text>\n<text text-anchor=\"middle\" x=\"44.5\" y=\"-87.3\" font-family=\"Times,serif\" font-size=\"14.00\" fill=\"#000000\">value = 50.0</text>\n</g>\n<!-- 2&#45;&gt;3 -->\n<g id=\"edge3\" class=\"edge\">\n<title>2&#45;&gt;3</title>\n<path fill=\"none\" stroke=\"#000000\" d=\"M121.8447,-175.9465C108.8122,-164.1606 94.2294,-150.9726 81.2689,-139.2519\"/>\n<polygon fill=\"#000000\" stroke=\"#000000\" points=\"83.614,-136.6537 73.8495,-132.5422 78.9188,-141.8456 83.614,-136.6537\"/>\n</g>\n<!-- 4 -->\n<g id=\"node5\" class=\"node\">\n<title>4</title>\n<polygon fill=\"#f4c8a9\" stroke=\"#000000\" points=\"211.5,-140 107.5,-140 107.5,-72 211.5,-72 211.5,-140\"/>\n<text text-anchor=\"middle\" x=\"159.5\" y=\"-124.8\" font-family=\"Times,serif\" font-size=\"14.00\" fill=\"#000000\">RM &lt;= 6.797</text>\n<text text-anchor=\"middle\" x=\"159.5\" y=\"-109.8\" font-family=\"Times,serif\" font-size=\"14.00\" fill=\"#000000\">mse = 25.719</text>\n<text text-anchor=\"middle\" x=\"159.5\" y=\"-94.8\" font-family=\"Times,serif\" font-size=\"14.00\" fill=\"#000000\">samples = 162</text>\n<text text-anchor=\"middle\" x=\"159.5\" y=\"-79.8\" font-family=\"Times,serif\" font-size=\"14.00\" fill=\"#000000\">value = 26.542</text>\n</g>\n<!-- 2&#45;&gt;4 -->\n<g id=\"edge4\" class=\"edge\">\n<title>2&#45;&gt;4</title>\n<path fill=\"none\" stroke=\"#000000\" d=\"M159.5,-175.9465C159.5,-167.776 159.5,-158.9318 159.5,-150.3697\"/>\n<polygon fill=\"#000000\" stroke=\"#000000\" points=\"163.0001,-150.13 159.5,-140.13 156.0001,-150.13 163.0001,-150.13\"/>\n</g>\n<!-- 5 -->\n<g id=\"node6\" class=\"node\">\n<title>5</title>\n<polygon fill=\"#c0c0c0\" stroke=\"#000000\" points=\"114.5,-36 60.5,-36 60.5,0 114.5,0 114.5,-36\"/>\n<text text-anchor=\"middle\" x=\"87.5\" y=\"-14.3\" font-family=\"Times,serif\" font-size=\"14.00\" fill=\"#000000\">(...)</text>\n</g>\n<!-- 4&#45;&gt;5 -->\n<g id=\"edge5\" class=\"edge\">\n<title>4&#45;&gt;5</title>\n<path fill=\"none\" stroke=\"#000000\" d=\"M131.6629,-71.9769C124.1059,-62.7406 116.0424,-52.8851 108.9014,-44.1573\"/>\n<polygon fill=\"#000000\" stroke=\"#000000\" points=\"111.4256,-41.7152 102.3843,-36.192 106.0079,-46.1479 111.4256,-41.7152\"/>\n</g>\n<!-- 12 -->\n<g id=\"node7\" class=\"node\">\n<title>12</title>\n<polygon fill=\"#c0c0c0\" stroke=\"#000000\" points=\"186.5,-36 132.5,-36 132.5,0 186.5,0 186.5,-36\"/>\n<text text-anchor=\"middle\" x=\"159.5\" y=\"-14.3\" font-family=\"Times,serif\" font-size=\"14.00\" fill=\"#000000\">(...)</text>\n</g>\n<!-- 4&#45;&gt;12 -->\n<g id=\"edge6\" class=\"edge\">\n<title>4&#45;&gt;12</title>\n<path fill=\"none\" stroke=\"#000000\" d=\"M159.5,-71.9769C159.5,-63.5023 159.5,-54.5065 159.5,-46.3388\"/>\n<polygon fill=\"#000000\" stroke=\"#000000\" points=\"163.0001,-46.1919 159.5,-36.192 156.0001,-46.192 163.0001,-46.1919\"/>\n</g>\n<!-- 20 -->\n<g id=\"node9\" class=\"node\">\n<title>20</title>\n<polygon fill=\"#e78c4a\" stroke=\"#000000\" points=\"353.5,-140 249.5,-140 249.5,-72 353.5,-72 353.5,-140\"/>\n<text text-anchor=\"middle\" x=\"301.5\" y=\"-124.8\" font-family=\"Times,serif\" font-size=\"14.00\" fill=\"#000000\">B &lt;= 395.54</text>\n<text text-anchor=\"middle\" x=\"301.5\" y=\"-109.8\" font-family=\"Times,serif\" font-size=\"14.00\" fill=\"#000000\">mse = 16.095</text>\n<text text-anchor=\"middle\" x=\"301.5\" y=\"-94.8\" font-family=\"Times,serif\" font-size=\"14.00\" fill=\"#000000\">samples = 24</text>\n<text text-anchor=\"middle\" x=\"301.5\" y=\"-79.8\" font-family=\"Times,serif\" font-size=\"14.00\" fill=\"#000000\">value = 46.438</text>\n</g>\n<!-- 19&#45;&gt;20 -->\n<g id=\"edge8\" class=\"edge\">\n<title>19&#45;&gt;20</title>\n<path fill=\"none\" stroke=\"#000000\" d=\"M360.6855,-175.9465C353.0883,-166.968 344.8026,-157.1758 336.9018,-147.8385\"/>\n<polygon fill=\"#000000\" stroke=\"#000000\" points=\"339.5105,-145.5031 330.3792,-140.13 334.1668,-150.0247 339.5105,-145.5031\"/>\n</g>\n<!-- 31 -->\n<g id=\"node12\" class=\"node\">\n<title>31</title>\n<polygon fill=\"#f2c29f\" stroke=\"#000000\" points=\"477.5,-140 371.5,-140 371.5,-72 477.5,-72 477.5,-140\"/>\n<text text-anchor=\"middle\" x=\"424.5\" y=\"-124.8\" font-family=\"Times,serif\" font-size=\"14.00\" fill=\"#000000\">NOX &lt;= 0.591</text>\n<text text-anchor=\"middle\" x=\"424.5\" y=\"-109.8\" font-family=\"Times,serif\" font-size=\"14.00\" fill=\"#000000\">mse = 44.222</text>\n<text text-anchor=\"middle\" x=\"424.5\" y=\"-94.8\" font-family=\"Times,serif\" font-size=\"14.00\" fill=\"#000000\">samples = 2</text>\n<text text-anchor=\"middle\" x=\"424.5\" y=\"-79.8\" font-family=\"Times,serif\" font-size=\"14.00\" fill=\"#000000\">value = 28.55</text>\n</g>\n<!-- 19&#45;&gt;31 -->\n<g id=\"edge11\" class=\"edge\">\n<title>19&#45;&gt;31</title>\n<path fill=\"none\" stroke=\"#000000\" d=\"M400.9603,-175.9465C403.7704,-167.5965 406.8173,-158.5427 409.7577,-149.8056\"/>\n<polygon fill=\"#000000\" stroke=\"#000000\" points=\"413.1415,-150.7241 413.0139,-140.13 406.5071,-148.4913 413.1415,-150.7241\"/>\n</g>\n<!-- 21 -->\n<g id=\"node10\" class=\"node\">\n<title>21</title>\n<polygon fill=\"#c0c0c0\" stroke=\"#000000\" points=\"258.5,-36 204.5,-36 204.5,0 258.5,0 258.5,-36\"/>\n<text text-anchor=\"middle\" x=\"231.5\" y=\"-14.3\" font-family=\"Times,serif\" font-size=\"14.00\" fill=\"#000000\">(...)</text>\n</g>\n<!-- 20&#45;&gt;21 -->\n<g id=\"edge9\" class=\"edge\">\n<title>20&#45;&gt;21</title>\n<path fill=\"none\" stroke=\"#000000\" d=\"M274.4362,-71.9769C267.0891,-62.7406 259.2495,-52.8851 252.3069,-44.1573\"/>\n<polygon fill=\"#000000\" stroke=\"#000000\" points=\"254.9353,-41.8391 245.9709,-36.192 249.457,-46.1968 254.9353,-41.8391\"/>\n</g>\n<!-- 28 -->\n<g id=\"node11\" class=\"node\">\n<title>28</title>\n<polygon fill=\"#c0c0c0\" stroke=\"#000000\" points=\"330.5,-36 276.5,-36 276.5,0 330.5,0 330.5,-36\"/>\n<text text-anchor=\"middle\" x=\"303.5\" y=\"-14.3\" font-family=\"Times,serif\" font-size=\"14.00\" fill=\"#000000\">(...)</text>\n</g>\n<!-- 20&#45;&gt;28 -->\n<g id=\"edge10\" class=\"edge\">\n<title>20&#45;&gt;28</title>\n<path fill=\"none\" stroke=\"#000000\" d=\"M302.2733,-71.9769C302.4659,-63.5023 302.6703,-54.5065 302.8559,-46.3388\"/>\n<polygon fill=\"#000000\" stroke=\"#000000\" points=\"306.3583,-46.2689 303.0865,-36.192 299.3601,-46.1098 306.3583,-46.2689\"/>\n</g>\n<!-- 32 -->\n<g id=\"node13\" class=\"node\">\n<title>32</title>\n<polygon fill=\"#c0c0c0\" stroke=\"#000000\" points=\"402.5,-36 348.5,-36 348.5,0 402.5,0 402.5,-36\"/>\n<text text-anchor=\"middle\" x=\"375.5\" y=\"-14.3\" font-family=\"Times,serif\" font-size=\"14.00\" fill=\"#000000\">(...)</text>\n</g>\n<!-- 31&#45;&gt;32 -->\n<g id=\"edge12\" class=\"edge\">\n<title>31&#45;&gt;32</title>\n<path fill=\"none\" stroke=\"#000000\" d=\"M405.5553,-71.9769C400.5714,-63.0262 395.2638,-53.4941 390.5175,-44.9703\"/>\n<polygon fill=\"#000000\" stroke=\"#000000\" points=\"393.5524,-43.2261 385.6296,-36.192 387.4366,-46.6316 393.5524,-43.2261\"/>\n</g>\n<!-- 33 -->\n<g id=\"node14\" class=\"node\">\n<title>33</title>\n<polygon fill=\"#c0c0c0\" stroke=\"#000000\" points=\"474.5,-36 420.5,-36 420.5,0 474.5,0 474.5,-36\"/>\n<text text-anchor=\"middle\" x=\"447.5\" y=\"-14.3\" font-family=\"Times,serif\" font-size=\"14.00\" fill=\"#000000\">(...)</text>\n</g>\n<!-- 31&#45;&gt;33 -->\n<g id=\"edge13\" class=\"edge\">\n<title>31&#45;&gt;33</title>\n<path fill=\"none\" stroke=\"#000000\" d=\"M433.3924,-71.9769C435.6322,-63.4071 438.0114,-54.3043 440.1651,-46.0638\"/>\n<polygon fill=\"#000000\" stroke=\"#000000\" points=\"443.6028,-46.752 442.7453,-36.192 436.8303,-44.9819 443.6028,-46.752\"/>\n</g>\n<!-- 35 -->\n<g id=\"node16\" class=\"node\">\n<title>35</title>\n<polygon fill=\"#f8dbc7\" stroke=\"#000000\" points=\"628.5,-244 524.5,-244 524.5,-176 628.5,-176 628.5,-244\"/>\n<text text-anchor=\"middle\" x=\"576.5\" y=\"-228.8\" font-family=\"Times,serif\" font-size=\"14.00\" fill=\"#000000\">B &lt;= 162.78</text>\n<text text-anchor=\"middle\" x=\"576.5\" y=\"-213.8\" font-family=\"Times,serif\" font-size=\"14.00\" fill=\"#000000\">mse = 9.986</text>\n<text text-anchor=\"middle\" x=\"576.5\" y=\"-198.8\" font-family=\"Times,serif\" font-size=\"14.00\" fill=\"#000000\">samples = 133</text>\n<text text-anchor=\"middle\" x=\"576.5\" y=\"-183.8\" font-family=\"Times,serif\" font-size=\"14.00\" fill=\"#000000\">value = 20.247</text>\n</g>\n<!-- 34&#45;&gt;35 -->\n<g id=\"edge15\" class=\"edge\">\n<title>34&#45;&gt;35</title>\n<path fill=\"none\" stroke=\"#000000\" d=\"M576.5,-279.9465C576.5,-271.776 576.5,-262.9318 576.5,-254.3697\"/>\n<polygon fill=\"#000000\" stroke=\"#000000\" points=\"580.0001,-254.13 576.5,-244.13 573.0001,-254.13 580.0001,-254.13\"/>\n</g>\n<!-- 62 -->\n<g id=\"node23\" class=\"node\">\n<title>62</title>\n<polygon fill=\"#fbede2\" stroke=\"#000000\" points=\"864.5,-244 758.5,-244 758.5,-176 864.5,-176 864.5,-244\"/>\n<text text-anchor=\"middle\" x=\"811.5\" y=\"-228.8\" font-family=\"Times,serif\" font-size=\"14.00\" fill=\"#000000\">NOX &lt;= 0.657</text>\n<text text-anchor=\"middle\" x=\"811.5\" y=\"-213.8\" font-family=\"Times,serif\" font-size=\"14.00\" fill=\"#000000\">mse = 19.073</text>\n<text text-anchor=\"middle\" x=\"811.5\" y=\"-198.8\" font-family=\"Times,serif\" font-size=\"14.00\" fill=\"#000000\">samples = 129</text>\n<text text-anchor=\"middle\" x=\"811.5\" y=\"-183.8\" font-family=\"Times,serif\" font-size=\"14.00\" fill=\"#000000\">value = 14.44</text>\n</g>\n<!-- 34&#45;&gt;62 -->\n<g id=\"edge22\" class=\"edge\">\n<title>34&#45;&gt;62</title>\n<path fill=\"none\" stroke=\"#000000\" d=\"M639.167,-286.2665C673.0962,-271.2511 714.8885,-252.7557 748.8197,-237.7394\"/>\n<polygon fill=\"#000000\" stroke=\"#000000\" points=\"750.4405,-240.8496 758.1686,-233.602 747.6076,-234.4484 750.4405,-240.8496\"/>\n</g>\n<!-- 36 -->\n<g id=\"node17\" class=\"node\">\n<title>36</title>\n<polygon fill=\"#fbede3\" stroke=\"#000000\" points=\"588.5,-140 496.5,-140 496.5,-72 588.5,-72 588.5,-140\"/>\n<text text-anchor=\"middle\" x=\"542.5\" y=\"-124.8\" font-family=\"Times,serif\" font-size=\"14.00\" fill=\"#000000\">B &lt;= 47.725</text>\n<text text-anchor=\"middle\" x=\"542.5\" y=\"-109.8\" font-family=\"Times,serif\" font-size=\"14.00\" fill=\"#000000\">mse = 8.703</text>\n<text text-anchor=\"middle\" x=\"542.5\" y=\"-94.8\" font-family=\"Times,serif\" font-size=\"14.00\" fill=\"#000000\">samples = 6</text>\n<text text-anchor=\"middle\" x=\"542.5\" y=\"-79.8\" font-family=\"Times,serif\" font-size=\"14.00\" fill=\"#000000\">value = 14.4</text>\n</g>\n<!-- 35&#45;&gt;36 -->\n<g id=\"edge16\" class=\"edge\">\n<title>35&#45;&gt;36</title>\n<path fill=\"none\" stroke=\"#000000\" d=\"M565.3671,-175.9465C562.6373,-167.5965 559.6774,-158.5427 556.8211,-149.8056\"/>\n<polygon fill=\"#000000\" stroke=\"#000000\" points=\"560.0921,-148.5473 553.6579,-140.13 553.4386,-150.7226 560.0921,-148.5473\"/>\n</g>\n<!-- 47 -->\n<g id=\"node20\" class=\"node\">\n<title>47</title>\n<polygon fill=\"#f7dac5\" stroke=\"#000000\" points=\"726,-140 607,-140 607,-72 726,-72 726,-140\"/>\n<text text-anchor=\"middle\" x=\"666.5\" y=\"-124.8\" font-family=\"Times,serif\" font-size=\"14.00\" fill=\"#000000\">INDUS &lt;= 3.985</text>\n<text text-anchor=\"middle\" x=\"666.5\" y=\"-109.8\" font-family=\"Times,serif\" font-size=\"14.00\" fill=\"#000000\">mse = 8.355</text>\n<text text-anchor=\"middle\" x=\"666.5\" y=\"-94.8\" font-family=\"Times,serif\" font-size=\"14.00\" fill=\"#000000\">samples = 127</text>\n<text text-anchor=\"middle\" x=\"666.5\" y=\"-79.8\" font-family=\"Times,serif\" font-size=\"14.00\" fill=\"#000000\">value = 20.523</text>\n</g>\n<!-- 35&#45;&gt;47 -->\n<g id=\"edge19\" class=\"edge\">\n<title>35&#45;&gt;47</title>\n<path fill=\"none\" stroke=\"#000000\" d=\"M605.9694,-175.9465C613.7393,-166.968 622.2132,-157.1758 630.2936,-147.8385\"/>\n<polygon fill=\"#000000\" stroke=\"#000000\" points=\"633.0672,-149.982 636.9644,-140.13 627.774,-145.4014 633.0672,-149.982\"/>\n</g>\n<!-- 37 -->\n<g id=\"node18\" class=\"node\">\n<title>37</title>\n<polygon fill=\"#c0c0c0\" stroke=\"#000000\" points=\"546.5,-36 492.5,-36 492.5,0 546.5,0 546.5,-36\"/>\n<text text-anchor=\"middle\" x=\"519.5\" y=\"-14.3\" font-family=\"Times,serif\" font-size=\"14.00\" fill=\"#000000\">(...)</text>\n</g>\n<!-- 36&#45;&gt;37 -->\n<g id=\"edge17\" class=\"edge\">\n<title>36&#45;&gt;37</title>\n<path fill=\"none\" stroke=\"#000000\" d=\"M533.6076,-71.9769C531.3678,-63.4071 528.9886,-54.3043 526.8349,-46.0638\"/>\n<polygon fill=\"#000000\" stroke=\"#000000\" points=\"530.1697,-44.9819 524.2547,-36.192 523.3972,-46.752 530.1697,-44.9819\"/>\n</g>\n<!-- 42 -->\n<g id=\"node19\" class=\"node\">\n<title>42</title>\n<polygon fill=\"#c0c0c0\" stroke=\"#000000\" points=\"618.5,-36 564.5,-36 564.5,0 618.5,0 618.5,-36\"/>\n<text text-anchor=\"middle\" x=\"591.5\" y=\"-14.3\" font-family=\"Times,serif\" font-size=\"14.00\" fill=\"#000000\">(...)</text>\n</g>\n<!-- 36&#45;&gt;42 -->\n<g id=\"edge18\" class=\"edge\">\n<title>36&#45;&gt;42</title>\n<path fill=\"none\" stroke=\"#000000\" d=\"M561.4447,-71.9769C566.4286,-63.0262 571.7362,-53.4941 576.4825,-44.9703\"/>\n<polygon fill=\"#000000\" stroke=\"#000000\" points=\"579.5634,-46.6316 581.3704,-36.192 573.4476,-43.2261 579.5634,-46.6316\"/>\n</g>\n<!-- 48 -->\n<g id=\"node21\" class=\"node\">\n<title>48</title>\n<polygon fill=\"#c0c0c0\" stroke=\"#000000\" points=\"690.5,-36 636.5,-36 636.5,0 690.5,0 690.5,-36\"/>\n<text text-anchor=\"middle\" x=\"663.5\" y=\"-14.3\" font-family=\"Times,serif\" font-size=\"14.00\" fill=\"#000000\">(...)</text>\n</g>\n<!-- 47&#45;&gt;48 -->\n<g id=\"edge20\" class=\"edge\">\n<title>47&#45;&gt;48</title>\n<path fill=\"none\" stroke=\"#000000\" d=\"M665.3401,-71.9769C665.0512,-63.5023 664.7445,-54.5065 664.4661,-46.3388\"/>\n<polygon fill=\"#000000\" stroke=\"#000000\" points=\"667.959,-46.0669 664.1202,-36.192 660.963,-46.3054 667.959,-46.0669\"/>\n</g>\n<!-- 55 -->\n<g id=\"node22\" class=\"node\">\n<title>55</title>\n<polygon fill=\"#c0c0c0\" stroke=\"#000000\" points=\"762.5,-36 708.5,-36 708.5,0 762.5,0 762.5,-36\"/>\n<text text-anchor=\"middle\" x=\"735.5\" y=\"-14.3\" font-family=\"Times,serif\" font-size=\"14.00\" fill=\"#000000\">(...)</text>\n</g>\n<!-- 47&#45;&gt;55 -->\n<g id=\"edge21\" class=\"edge\">\n<title>47&#45;&gt;55</title>\n<path fill=\"none\" stroke=\"#000000\" d=\"M693.1772,-71.9769C700.4193,-62.7406 708.1469,-52.8851 714.9903,-44.1573\"/>\n<polygon fill=\"#000000\" stroke=\"#000000\" points=\"717.8198,-46.221 721.2359,-36.192 712.3112,-41.9017 717.8198,-46.221\"/>\n</g>\n<!-- 63 -->\n<g id=\"node24\" class=\"node\">\n<title>63</title>\n<polygon fill=\"#fae4d5\" stroke=\"#000000\" points=\"878.5,-140 744.5,-140 744.5,-72 878.5,-72 878.5,-140\"/>\n<text text-anchor=\"middle\" x=\"811.5\" y=\"-124.8\" font-family=\"Times,serif\" font-size=\"14.00\" fill=\"#000000\">PTRATIO &lt;= 19.65</text>\n<text text-anchor=\"middle\" x=\"811.5\" y=\"-109.8\" font-family=\"Times,serif\" font-size=\"14.00\" fill=\"#000000\">mse = 12.764</text>\n<text text-anchor=\"middle\" x=\"811.5\" y=\"-94.8\" font-family=\"Times,serif\" font-size=\"14.00\" fill=\"#000000\">samples = 59</text>\n<text text-anchor=\"middle\" x=\"811.5\" y=\"-79.8\" font-family=\"Times,serif\" font-size=\"14.00\" fill=\"#000000\">value = 17.207</text>\n</g>\n<!-- 62&#45;&gt;63 -->\n<g id=\"edge23\" class=\"edge\">\n<title>62&#45;&gt;63</title>\n<path fill=\"none\" stroke=\"#000000\" d=\"M811.5,-175.9465C811.5,-167.776 811.5,-158.9318 811.5,-150.3697\"/>\n<polygon fill=\"#000000\" stroke=\"#000000\" points=\"815.0001,-150.13 811.5,-140.13 808.0001,-150.13 815.0001,-150.13\"/>\n</g>\n<!-- 76 -->\n<g id=\"node27\" class=\"node\">\n<title>76</title>\n<polygon fill=\"#fdf4ed\" stroke=\"#000000\" points=\"1003.5,-140 899.5,-140 899.5,-72 1003.5,-72 1003.5,-140\"/>\n<text text-anchor=\"middle\" x=\"951.5\" y=\"-124.8\" font-family=\"Times,serif\" font-size=\"14.00\" fill=\"#000000\">CRIM &lt;= 9.87</text>\n<text text-anchor=\"middle\" x=\"951.5\" y=\"-109.8\" font-family=\"Times,serif\" font-size=\"14.00\" fill=\"#000000\">mse = 12.502</text>\n<text text-anchor=\"middle\" x=\"951.5\" y=\"-94.8\" font-family=\"Times,serif\" font-size=\"14.00\" fill=\"#000000\">samples = 70</text>\n<text text-anchor=\"middle\" x=\"951.5\" y=\"-79.8\" font-family=\"Times,serif\" font-size=\"14.00\" fill=\"#000000\">value = 12.109</text>\n</g>\n<!-- 62&#45;&gt;76 -->\n<g id=\"edge26\" class=\"edge\">\n<title>62&#45;&gt;76</title>\n<path fill=\"none\" stroke=\"#000000\" d=\"M857.3412,-175.9465C870.1529,-166.4293 884.1952,-155.9978 897.4344,-146.163\"/>\n<polygon fill=\"#000000\" stroke=\"#000000\" points=\"899.6155,-148.9029 905.5558,-140.13 895.4412,-143.2837 899.6155,-148.9029\"/>\n</g>\n<!-- 64 -->\n<g id=\"node25\" class=\"node\">\n<title>64</title>\n<polygon fill=\"#c0c0c0\" stroke=\"#000000\" points=\"834.5,-36 780.5,-36 780.5,0 834.5,0 834.5,-36\"/>\n<text text-anchor=\"middle\" x=\"807.5\" y=\"-14.3\" font-family=\"Times,serif\" font-size=\"14.00\" fill=\"#000000\">(...)</text>\n</g>\n<!-- 63&#45;&gt;64 -->\n<g id=\"edge24\" class=\"edge\">\n<title>63&#45;&gt;64</title>\n<path fill=\"none\" stroke=\"#000000\" d=\"M809.9535,-71.9769C809.5683,-63.5023 809.1594,-54.5065 808.7881,-46.3388\"/>\n<polygon fill=\"#000000\" stroke=\"#000000\" points=\"812.2775,-46.0227 808.3269,-36.192 805.2847,-46.3406 812.2775,-46.0227\"/>\n</g>\n<!-- 71 -->\n<g id=\"node26\" class=\"node\">\n<title>71</title>\n<polygon fill=\"#c0c0c0\" stroke=\"#000000\" points=\"906.5,-36 852.5,-36 852.5,0 906.5,0 906.5,-36\"/>\n<text text-anchor=\"middle\" x=\"879.5\" y=\"-14.3\" font-family=\"Times,serif\" font-size=\"14.00\" fill=\"#000000\">(...)</text>\n</g>\n<!-- 63&#45;&gt;71 -->\n<g id=\"edge25\" class=\"edge\">\n<title>63&#45;&gt;71</title>\n<path fill=\"none\" stroke=\"#000000\" d=\"M837.7906,-71.9769C844.9277,-62.7406 852.5433,-52.8851 859.2875,-44.1573\"/>\n<polygon fill=\"#000000\" stroke=\"#000000\" points=\"862.0976,-46.2449 865.4426,-36.192 856.5586,-41.9647 862.0976,-46.2449\"/>\n</g>\n<!-- 77 -->\n<g id=\"node28\" class=\"node\">\n<title>77</title>\n<polygon fill=\"#c0c0c0\" stroke=\"#000000\" points=\"978.5,-36 924.5,-36 924.5,0 978.5,0 978.5,-36\"/>\n<text text-anchor=\"middle\" x=\"951.5\" y=\"-14.3\" font-family=\"Times,serif\" font-size=\"14.00\" fill=\"#000000\">(...)</text>\n</g>\n<!-- 76&#45;&gt;77 -->\n<g id=\"edge27\" class=\"edge\">\n<title>76&#45;&gt;77</title>\n<path fill=\"none\" stroke=\"#000000\" d=\"M951.5,-71.9769C951.5,-63.5023 951.5,-54.5065 951.5,-46.3388\"/>\n<polygon fill=\"#000000\" stroke=\"#000000\" points=\"955.0001,-46.1919 951.5,-36.192 948.0001,-46.192 955.0001,-46.1919\"/>\n</g>\n<!-- 84 -->\n<g id=\"node29\" class=\"node\">\n<title>84</title>\n<polygon fill=\"#c0c0c0\" stroke=\"#000000\" points=\"1050.5,-36 996.5,-36 996.5,0 1050.5,0 1050.5,-36\"/>\n<text text-anchor=\"middle\" x=\"1023.5\" y=\"-14.3\" font-family=\"Times,serif\" font-size=\"14.00\" fill=\"#000000\">(...)</text>\n</g>\n<!-- 76&#45;&gt;84 -->\n<g id=\"edge28\" class=\"edge\">\n<title>76&#45;&gt;84</title>\n<path fill=\"none\" stroke=\"#000000\" d=\"M979.3371,-71.9769C986.8941,-62.7406 994.9576,-52.8851 1002.0986,-44.1573\"/>\n<polygon fill=\"#000000\" stroke=\"#000000\" points=\"1004.9921,-46.1479 1008.6157,-36.192 999.5744,-41.7152 1004.9921,-46.1479\"/>\n</g>\n</g>\n</svg>\n"
          },
          "metadata": {
            "tags": []
          },
          "execution_count": 10
        }
      ]
    },
    {
      "cell_type": "code",
      "metadata": {
        "id": "W22VvcvWQnMs",
        "colab": {
          "base_uri": "https://localhost:8080/"
        },
        "outputId": "27fd8ebb-76ee-4515-ab1a-b6985fe0f176"
      },
      "source": [
        "from sklearn.metrics import r2_score # R2 決定係數（擬合優度）\n",
        "pre = reg.predict(x_test)\n",
        "print('r2_score:',r2_score(y_test, pre)) # 越接近1最佳，接近0為瞎猜"
      ],
      "execution_count": null,
      "outputs": [
        {
          "output_type": "stream",
          "text": [
            "r2_score: 0.8261070472176413\n"
          ],
          "name": "stdout"
        }
      ]
    }
  ]
}